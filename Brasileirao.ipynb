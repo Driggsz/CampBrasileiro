{
  "nbformat": 4,
  "nbformat_minor": 0,
  "metadata": {
    "colab": {
      "provenance": [],
      "authorship_tag": "ABX9TyO8QewiTPMEA3+dXYqcXTbY",
      "include_colab_link": true
    },
    "kernelspec": {
      "name": "python3",
      "display_name": "Python 3"
    },
    "language_info": {
      "name": "python"
    }
  },
  "cells": [
    {
      "cell_type": "markdown",
      "metadata": {
        "id": "view-in-github",
        "colab_type": "text"
      },
      "source": [
        "<a href=\"https://colab.research.google.com/github/Driggsz/CampBrasileiro/blob/main/Brasileirao.ipynb\" target=\"_parent\"><img src=\"https://colab.research.google.com/assets/colab-badge.svg\" alt=\"Open In Colab\"/></a>"
      ]
    },
    {
      "cell_type": "code",
      "execution_count": null,
      "metadata": {
        "id": "u2wBfWoacVQS"
      },
      "outputs": [],
      "source": [
        "import pandas as pd\n",
        "from sklearn.linear_model import LogisticRegression\n",
        "from sklearn.metrics import accuracy_score\n"
      ]
    },
    {
      "cell_type": "code",
      "source": [
        "# Carregar os dados\n",
        "df = pd.read_csv('/Classificacao_2023.csv')"
      ],
      "metadata": {
        "id": "qjLGzxcEnwQJ"
      },
      "execution_count": 4,
      "outputs": []
    },
    {
      "cell_type": "code",
      "source": [
        "# Dividir os dados em treinamento (até rodada 30) e teste (rodadas 31 a 38)\n",
        "dados_treinamento = df[df['Rodada'] <= 30]\n",
        "dados_teste = df[df['Rodada'] > 30]\n"
      ],
      "metadata": {
        "id": "sZoBb6EmluD4"
      },
      "execution_count": 5,
      "outputs": []
    },
    {
      "cell_type": "code",
      "source": [
        "# Selecionar as features e o target para treinamento\n",
        "X_treinamento = dados_treinamento.drop(['Time', 'Temporada', 'Posicao', 'Rodada'], axis=1)\n",
        "y_treinamento = dados_treinamento['Posicao']"
      ],
      "metadata": {
        "id": "GszfMub1lv5O"
      },
      "execution_count": 6,
      "outputs": []
    },
    {
      "cell_type": "code",
      "source": [
        "# Treinar o modelo\n",
        "modelo = LogisticRegression()\n",
        "modelo.fit(X_treinamento, y_treinamento)\n"
      ],
      "metadata": {
        "id": "twIl8I_qlyqg"
      },
      "execution_count": null,
      "outputs": []
    },
    {
      "cell_type": "code",
      "source": [
        "# Avaliar a precisão do modelo nos dados de treinamento\n",
        "previsao_treinamento = modelo.predict(X_treinamento)\n",
        "acuracia_treinamento = accuracy_score(y_treinamento, previsao_treinamento)\n",
        "print(\"Acurácia do modelo nos dados de treinamento:\", acuracia_treinamento)"
      ],
      "metadata": {
        "colab": {
          "base_uri": "https://localhost:8080/"
        },
        "id": "8DDrXCY6lz9t",
        "outputId": "f9f0f1f3-5e5a-43cb-9155-aa187cc44885"
      },
      "execution_count": 8,
      "outputs": [
        {
          "output_type": "stream",
          "name": "stdout",
          "text": [
            "Acurácia do modelo nos dados de treinamento: 0.45666666666666667\n"
          ]
        }
      ]
    },
    {
      "cell_type": "code",
      "source": [
        "# Selecionar as features para previsão das 8 rodadas restantes\n",
        "X_teste = dados_teste.drop(['Time', 'Temporada', 'Posicao', 'Rodada'], axis=1)\n",
        "\n"
      ],
      "metadata": {
        "id": "fxsfr4vzl1uX"
      },
      "execution_count": 9,
      "outputs": []
    },
    {
      "cell_type": "code",
      "source": [
        "# Prever a posição de cada time na 38ª rodada\n",
        "posicoes_previstas_38_rodada = modelo.predict(X_teste)"
      ],
      "metadata": {
        "id": "aLgX8h_Dl3Wd"
      },
      "execution_count": 10,
      "outputs": []
    },
    {
      "cell_type": "code",
      "source": [
        "# Mapear os números das posições de volta aos nomes dos times\n",
        "posicoes_previstas_38_rodada_nomes = dados_teste['Time'].values"
      ],
      "metadata": {
        "id": "QcTJN1zDmUtA"
      },
      "execution_count": 11,
      "outputs": []
    },
    {
      "cell_type": "code",
      "source": [
        "# Criar um DataFrame com as previsões da colocação\n",
        "df_previsao = pd.DataFrame({'Time': posicoes_previstas_38_rodada_nomes, 'Posicao_Previsao': posicoes_previstas_38_rodada})"
      ],
      "metadata": {
        "id": "xSzgEkZHndDX"
      },
      "execution_count": 12,
      "outputs": []
    },
    {
      "cell_type": "code",
      "source": [
        "\n",
        "\n",
        "# Agrupar por time e calcular a posição prevista mais frequente\n",
        "df_previsao_agrupada = df_previsao.groupby('Time')['Posicao_Previsao'].agg(lambda x:x.value_counts().index[0]).reset_index()\n",
        "\n",
        "\n"
      ],
      "metadata": {
        "id": "rb_wWioBndnu"
      },
      "execution_count": 13,
      "outputs": []
    },
    {
      "cell_type": "code",
      "source": [
        "# Agrupar por time e calcular a posição prevista mais frequente\n",
        "df_previsao_agrupada = df_previsao.groupby('Time')['Posicao_Previsao'].agg(lambda x:x.value_counts().index[0]).reset_index()"
      ],
      "metadata": {
        "id": "6PGfKiCqngjx"
      },
      "execution_count": 14,
      "outputs": []
    },
    {
      "cell_type": "code",
      "source": [
        "# Ordenar o DataFrame pela posição prevista\n",
        "df_previsao_agrupada = df_previsao_agrupada.sort_values(by='Posicao_Previsao')"
      ],
      "metadata": {
        "id": "SXxhgGEMnhVv"
      },
      "execution_count": 15,
      "outputs": []
    },
    {
      "cell_type": "code",
      "source": [
        "# Resolver empates considerando critérios de desempate\n",
        "for i in range(len(df_previsao_agrupada)):\n",
        "    time = df_previsao_agrupada.iloc[i]['Time']\n",
        "    posicao = df_previsao_agrupada.iloc[i]['Posicao_Previsao']\n",
        "\n",
        "    # Verificar empates\n",
        "    empates = df_previsao_agrupada[df_previsao_agrupada['Posicao_Previsao'] == posicao]\n",
        "    if len(empates) > 1:\n",
        "        # Calcular o número de vitórias para cada time\n",
        "        empates['Vitoria'] = dados_teste[dados_teste['Time'] == time]['Vitoria'].values[0]\n",
        "        empates['Saldo_de_gols'] = dados_teste[dados_teste['Time'] == time]['Saldo_de_gols'].values[0]\n",
        "        # Ordenar os times empatados pelos critérios de desempate\n",
        "        empates = empates.sort_values(by=['Vitoria', 'Saldo_de_gols'], ascending=False)\n",
        "        # Atribuir as posições aos times empatados\n",
        "        for j in range(len(empates)):\n",
        "            df_previsao_agrupada.loc[df_previsao_agrupada['Time'] == empates.iloc[j]['Time'], 'Posicao_Previsao'] = posicao + j"
      ],
      "metadata": {
        "id": "CV82xTy2nlYF"
      },
      "execution_count": null,
      "outputs": []
    },
    {
      "cell_type": "code",
      "source": [
        " # Exibir a previsão da colocação na 38ª rodada em uma tabela\n",
        "print(\"Previsão da colocação na 38ª rodada:\")\n",
        "print(df_previsao_agrupada.head(20).reset_index(drop=True).to_string(index=False))"
      ],
      "metadata": {
        "id": "6MZ7JKftnomX",
        "colab": {
          "base_uri": "https://localhost:8080/"
        },
        "outputId": "4ec96b7d-e205-4157-8a0e-ef874e750362"
      },
      "execution_count": 17,
      "outputs": [
        {
          "output_type": "stream",
          "name": "stdout",
          "text": [
            "Previsão da colocação na 38ª rodada:\n",
            "         Time  Posicao_Previsao\n",
            "  Atlético-MG                 1\n",
            "    Palmeiras                 2\n",
            "     Flamengo                 3\n",
            "       Grêmio                 4\n",
            "     Botafogo                 5\n",
            "   Bragantino                 6\n",
            " Athletico-PR                 8\n",
            "   Fluminense                 9\n",
            "       Cuiabá                10\n",
            "    São Paulo                11\n",
            "Internacional                12\n",
            "    Fortaleza                13\n",
            "     Cruzeiro                14\n",
            "  Corinthians                15\n",
            "        Vasco                16\n",
            "        Bahia                17\n",
            "        Goiás                18\n",
            "     Coritiba                19\n",
            "       Santos                20\n",
            "   América-MG                21\n"
          ]
        }
      ]
    }
  ]
}